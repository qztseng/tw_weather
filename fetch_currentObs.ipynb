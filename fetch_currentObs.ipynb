{
 "cells": [
  {
   "cell_type": "code",
   "execution_count": 120,
   "metadata": {},
   "outputs": [],
   "source": [
    "import requests\n",
    "import pandas as pd\n",
    "pd.options.mode.chained_assignment = None \n",
    "\n",
    "import json \n",
    "from datetime import datetime\n"
   ]
  },
  {
   "cell_type": "code",
   "execution_count": null,
   "metadata": {},
   "outputs": [],
   "source": [
    "stationId"
   ]
  },
  {
   "cell_type": "code",
   "execution_count": null,
   "metadata": {},
   "outputs": [],
   "source": [
    "https://opendata.cwb.gov.tw/api/v1/rest/datastore/O-A0001-001?Authorization=CWB-29B0277F-A9E5-417F-BF53-2502DC924680&format=JSON&locationName=%E9%B4%9B%E9%B4%A6%E6%B9%96,%E5%8D%97%E5%B1%B1,%E5%A4%AA%E5%B9%B3%E5%B1%B1,%E7%8E%89%E8%98%AD,%E6%80%9D%E6%BA%90&elementName=ELEV,TEMP,HUMD,H_24R,D_TX,D_TN,D_TXT,D_TNT&parameterName%EF%BC%8C="
   ]
  },
  {
   "cell_type": "code",
   "execution_count": null,
   "metadata": {},
   "outputs": [],
   "source": [
    "Authorization='CWB-29B0277F-A9E5-417F-BF53-2502DC924680'"
   ]
  },
  {
   "cell_type": "code",
   "execution_count": 125,
   "metadata": {},
   "outputs": [],
   "source": [
    "url = 'https://opendata.cwb.gov.tw/api/v1/rest/datastore/O-A0001-001'\n",
    "    \n",
    "r = requests.get(url, \n",
    "                 {'Authorization':'CWB-29B0277F-A9E5-417F-BF53-2502DC924680',\n",
    "                  'format':'JSON',\n",
    "                  'stationId':['C0U720','C0UA10', 'C0U710', 'C0UA30']\n",
    "                 })\n",
    "r.encoding = 'utf8'"
   ]
  },
  {
   "cell_type": "code",
   "execution_count": 126,
   "metadata": {},
   "outputs": [],
   "source": [
    "j = r.json()['records']['location']\n",
    "\n",
    "df = pd.json_normalize(j, 'weatherElement', ['locationName', 'stationId', 'time'])\n",
    "df['time'] = df['time'].apply(lambda x: x['obsTime'])\n",
    "\n",
    "df = df.pivot_table(values='elementValue', \n",
    "               index=['locationName', 'stationId', 'time'], \n",
    "               columns='elementName', aggfunc='first')"
   ]
  },
  {
   "cell_type": "code",
   "execution_count": 127,
   "metadata": {},
   "outputs": [],
   "source": [
    "df2 = df[['ELEV', 'H_24R', 'HUMD', 'TEMP', 'D_TN', 'D_TX', 'D_TNT', 'D_TXT']]\n",
    "df2['D_TNT'] = df2['D_TNT'].apply(lambda x: pd.to_datetime(x, format='%Y-%m-%dT%H:%M:%S+08:00').time())\n",
    "df2['D_TXT'] = df2['D_TXT'].apply(lambda x: pd.to_datetime(x, format='%Y-%m-%dT%H:%M:%S+08:00').time())"
   ]
  },
  {
   "cell_type": "code",
   "execution_count": 128,
   "metadata": {},
   "outputs": [
    {
     "data": {
      "text/html": [
       "<div>\n",
       "<style scoped>\n",
       "    .dataframe tbody tr th:only-of-type {\n",
       "        vertical-align: middle;\n",
       "    }\n",
       "\n",
       "    .dataframe tbody tr th {\n",
       "        vertical-align: top;\n",
       "    }\n",
       "\n",
       "    .dataframe thead th {\n",
       "        text-align: right;\n",
       "    }\n",
       "</style>\n",
       "<table border=\"1\" class=\"dataframe\">\n",
       "  <thead>\n",
       "    <tr style=\"text-align: right;\">\n",
       "      <th></th>\n",
       "      <th></th>\n",
       "      <th>elementName</th>\n",
       "      <th>ELEV</th>\n",
       "      <th>H_24R</th>\n",
       "      <th>HUMD</th>\n",
       "      <th>TEMP</th>\n",
       "      <th>D_TN</th>\n",
       "      <th>D_TX</th>\n",
       "      <th>D_TNT</th>\n",
       "      <th>D_TXT</th>\n",
       "    </tr>\n",
       "    <tr>\n",
       "      <th>locationName</th>\n",
       "      <th>stationId</th>\n",
       "      <th>time</th>\n",
       "      <th></th>\n",
       "      <th></th>\n",
       "      <th></th>\n",
       "      <th></th>\n",
       "      <th></th>\n",
       "      <th></th>\n",
       "      <th></th>\n",
       "      <th></th>\n",
       "    </tr>\n",
       "  </thead>\n",
       "  <tbody>\n",
       "    <tr>\n",
       "      <th>南山</th>\n",
       "      <th>C0U720</th>\n",
       "      <th>2021-01-08 13:00:00</th>\n",
       "      <td>1260.0</td>\n",
       "      <td>3.0</td>\n",
       "      <td>1</td>\n",
       "      <td>0.3</td>\n",
       "      <td>-0.30</td>\n",
       "      <td>2.00</td>\n",
       "      <td>08:00:00</td>\n",
       "      <td>00:30:00</td>\n",
       "    </tr>\n",
       "    <tr>\n",
       "      <th>太平山</th>\n",
       "      <th>C0U710</th>\n",
       "      <th>2021-01-08 13:00:00</th>\n",
       "      <td>1942.0</td>\n",
       "      <td>0.5</td>\n",
       "      <td>1</td>\n",
       "      <td>-2.8</td>\n",
       "      <td>-4.50</td>\n",
       "      <td>-2.00</td>\n",
       "      <td>07:30:00</td>\n",
       "      <td>00:20:00</td>\n",
       "    </tr>\n",
       "    <tr>\n",
       "      <th>白嶺</th>\n",
       "      <th>C0UA30</th>\n",
       "      <th>2021-01-08 13:00:00</th>\n",
       "      <td>1397.0</td>\n",
       "      <td>0.5</td>\n",
       "      <td>1</td>\n",
       "      <td>-0.3</td>\n",
       "      <td>-1.10</td>\n",
       "      <td>0.90</td>\n",
       "      <td>07:50:00</td>\n",
       "      <td>00:10:00</td>\n",
       "    </tr>\n",
       "    <tr>\n",
       "      <th>鴛鴦湖</th>\n",
       "      <th>C0UA10</th>\n",
       "      <th>2021-01-08 13:00:00</th>\n",
       "      <td>1711.0</td>\n",
       "      <td>0.0</td>\n",
       "      <td>1</td>\n",
       "      <td>-1.8</td>\n",
       "      <td>-2.60</td>\n",
       "      <td>-0.40</td>\n",
       "      <td>09:20:00</td>\n",
       "      <td>00:20:00</td>\n",
       "    </tr>\n",
       "  </tbody>\n",
       "</table>\n",
       "</div>"
      ],
      "text/plain": [
       "elementName                                   ELEV H_24R HUMD  TEMP   D_TN  \\\n",
       "locationName stationId time                                                  \n",
       "南山           C0U720    2021-01-08 13:00:00  1260.0   3.0    1   0.3  -0.30   \n",
       "太平山          C0U710    2021-01-08 13:00:00  1942.0   0.5    1  -2.8  -4.50   \n",
       "白嶺           C0UA30    2021-01-08 13:00:00  1397.0   0.5    1  -0.3  -1.10   \n",
       "鴛鴦湖          C0UA10    2021-01-08 13:00:00  1711.0   0.0    1  -1.8  -2.60   \n",
       "\n",
       "elementName                                  D_TX     D_TNT     D_TXT  \n",
       "locationName stationId time                                            \n",
       "南山           C0U720    2021-01-08 13:00:00   2.00  08:00:00  00:30:00  \n",
       "太平山          C0U710    2021-01-08 13:00:00  -2.00  07:30:00  00:20:00  \n",
       "白嶺           C0UA30    2021-01-08 13:00:00   0.90  07:50:00  00:10:00  \n",
       "鴛鴦湖          C0UA10    2021-01-08 13:00:00  -0.40  09:20:00  00:20:00  "
      ]
     },
     "execution_count": 128,
     "metadata": {},
     "output_type": "execute_result"
    }
   ],
   "source": [
    "df2"
   ]
  },
  {
   "cell_type": "code",
   "execution_count": 116,
   "metadata": {},
   "outputs": [
    {
     "ename": "AttributeError",
     "evalue": "'Series' object has no attribute 'time'",
     "output_type": "error",
     "traceback": [
      "\u001b[0;31m---------------------------------------------------------------------------\u001b[0m",
      "\u001b[0;31mAttributeError\u001b[0m                            Traceback (most recent call last)",
      "\u001b[0;32m<ipython-input-116-eec829c50cc6>\u001b[0m in \u001b[0;36m<module>\u001b[0;34m()\u001b[0m\n\u001b[1;32m      1\u001b[0m \u001b[0mdf\u001b[0m \u001b[0;34m=\u001b[0m \u001b[0mdf\u001b[0m\u001b[0;34m[\u001b[0m\u001b[0;34m[\u001b[0m\u001b[0;34m'ELEV'\u001b[0m\u001b[0;34m,\u001b[0m \u001b[0;34m'H_24R'\u001b[0m\u001b[0;34m,\u001b[0m \u001b[0;34m'HUMD'\u001b[0m\u001b[0;34m,\u001b[0m \u001b[0;34m'TEMP'\u001b[0m\u001b[0;34m,\u001b[0m \u001b[0;34m'D_TN'\u001b[0m\u001b[0;34m,\u001b[0m \u001b[0;34m'D_TX'\u001b[0m\u001b[0;34m,\u001b[0m \u001b[0;34m'D_TNT'\u001b[0m\u001b[0;34m,\u001b[0m \u001b[0;34m'D_TXT'\u001b[0m\u001b[0;34m]\u001b[0m\u001b[0;34m]\u001b[0m\u001b[0;34m\u001b[0m\u001b[0;34m\u001b[0m\u001b[0m\n\u001b[0;32m----> 2\u001b[0;31m \u001b[0mdf\u001b[0m\u001b[0;34m[\u001b[0m\u001b[0;34m'D_TNT'\u001b[0m\u001b[0;34m]\u001b[0m \u001b[0;34m=\u001b[0m \u001b[0mpd\u001b[0m\u001b[0;34m.\u001b[0m\u001b[0mto_datetime\u001b[0m\u001b[0;34m(\u001b[0m\u001b[0mdf\u001b[0m\u001b[0;34m[\u001b[0m\u001b[0;34m'D_TNT'\u001b[0m\u001b[0;34m]\u001b[0m\u001b[0;34m,\u001b[0m \u001b[0mformat\u001b[0m\u001b[0;34m=\u001b[0m\u001b[0;34m'%Y-%m-%dT%H:%M:%S+08:00'\u001b[0m\u001b[0;34m)\u001b[0m\u001b[0;34m.\u001b[0m\u001b[0mtime\u001b[0m\u001b[0;34m(\u001b[0m\u001b[0;34m)\u001b[0m\u001b[0;34m\u001b[0m\u001b[0;34m\u001b[0m\u001b[0m\n\u001b[0m\u001b[1;32m      3\u001b[0m \u001b[0mdf\u001b[0m\u001b[0;34m[\u001b[0m\u001b[0;34m'D_TXT'\u001b[0m\u001b[0;34m]\u001b[0m \u001b[0;34m=\u001b[0m \u001b[0mpd\u001b[0m\u001b[0;34m.\u001b[0m\u001b[0mto_datetime\u001b[0m\u001b[0;34m(\u001b[0m\u001b[0mdf\u001b[0m\u001b[0;34m[\u001b[0m\u001b[0;34m'D_TXT'\u001b[0m\u001b[0;34m]\u001b[0m\u001b[0;34m,\u001b[0m \u001b[0mformat\u001b[0m\u001b[0;34m=\u001b[0m\u001b[0;34m'%Y-%m-%dT%H:%M:%S+08:00'\u001b[0m\u001b[0;34m)\u001b[0m\u001b[0;34m.\u001b[0m\u001b[0mtime\u001b[0m\u001b[0;34m(\u001b[0m\u001b[0;34m)\u001b[0m\u001b[0;34m\u001b[0m\u001b[0;34m\u001b[0m\u001b[0m\n\u001b[1;32m      4\u001b[0m \u001b[0mdf\u001b[0m\u001b[0;34m\u001b[0m\u001b[0;34m\u001b[0m\u001b[0m\n",
      "\u001b[0;32m/Users/qzt/miniconda3/envs/data/lib/python3.7/site-packages/pandas/core/generic.py\u001b[0m in \u001b[0;36m__getattr__\u001b[0;34m(self, name)\u001b[0m\n\u001b[1;32m   5139\u001b[0m             \u001b[0;32mif\u001b[0m \u001b[0mself\u001b[0m\u001b[0;34m.\u001b[0m\u001b[0m_info_axis\u001b[0m\u001b[0;34m.\u001b[0m\u001b[0m_can_hold_identifiers_and_holds_name\u001b[0m\u001b[0;34m(\u001b[0m\u001b[0mname\u001b[0m\u001b[0;34m)\u001b[0m\u001b[0;34m:\u001b[0m\u001b[0;34m\u001b[0m\u001b[0;34m\u001b[0m\u001b[0m\n\u001b[1;32m   5140\u001b[0m                 \u001b[0;32mreturn\u001b[0m \u001b[0mself\u001b[0m\u001b[0;34m[\u001b[0m\u001b[0mname\u001b[0m\u001b[0;34m]\u001b[0m\u001b[0;34m\u001b[0m\u001b[0;34m\u001b[0m\u001b[0m\n\u001b[0;32m-> 5141\u001b[0;31m             \u001b[0;32mreturn\u001b[0m \u001b[0mobject\u001b[0m\u001b[0;34m.\u001b[0m\u001b[0m__getattribute__\u001b[0m\u001b[0;34m(\u001b[0m\u001b[0mself\u001b[0m\u001b[0;34m,\u001b[0m \u001b[0mname\u001b[0m\u001b[0;34m)\u001b[0m\u001b[0;34m\u001b[0m\u001b[0;34m\u001b[0m\u001b[0m\n\u001b[0m\u001b[1;32m   5142\u001b[0m \u001b[0;34m\u001b[0m\u001b[0m\n\u001b[1;32m   5143\u001b[0m     \u001b[0;32mdef\u001b[0m \u001b[0m__setattr__\u001b[0m\u001b[0;34m(\u001b[0m\u001b[0mself\u001b[0m\u001b[0;34m,\u001b[0m \u001b[0mname\u001b[0m\u001b[0;34m:\u001b[0m \u001b[0mstr\u001b[0m\u001b[0;34m,\u001b[0m \u001b[0mvalue\u001b[0m\u001b[0;34m)\u001b[0m \u001b[0;34m->\u001b[0m \u001b[0;32mNone\u001b[0m\u001b[0;34m:\u001b[0m\u001b[0;34m\u001b[0m\u001b[0;34m\u001b[0m\u001b[0m\n",
      "\u001b[0;31mAttributeError\u001b[0m: 'Series' object has no attribute 'time'"
     ]
    }
   ],
   "source": [
    "pd.to_datetime(df['D_TNT'], format='%Y-%m-%dT%H:%M:%S+08:00')\n",
    "df['D_TXT'] = pd.to_datetime(df['D_TXT'], format='%Y-%m-%dT%H:%M:%S+08:00')\n",
    "df"
   ]
  },
  {
   "cell_type": "code",
   "execution_count": 114,
   "metadata": {},
   "outputs": [
    {
     "name": "stdout",
     "output_type": "stream",
     "text": [
      "<built-in method time of Timestamp object at 0x7fb44ca93f50>\n"
     ]
    }
   ],
   "source": [
    "print(df['D_TNT'][1].time)"
   ]
  },
  {
   "cell_type": "code",
   "execution_count": 91,
   "metadata": {},
   "outputs": [],
   "source": []
  },
  {
   "cell_type": "code",
   "execution_count": 92,
   "metadata": {},
   "outputs": [
    {
     "data": {
      "text/html": [
       "<div>\n",
       "<style scoped>\n",
       "    .dataframe tbody tr th:only-of-type {\n",
       "        vertical-align: middle;\n",
       "    }\n",
       "\n",
       "    .dataframe tbody tr th {\n",
       "        vertical-align: top;\n",
       "    }\n",
       "\n",
       "    .dataframe thead th {\n",
       "        text-align: right;\n",
       "    }\n",
       "</style>\n",
       "<table border=\"1\" class=\"dataframe\">\n",
       "  <thead>\n",
       "    <tr style=\"text-align: right;\">\n",
       "      <th></th>\n",
       "      <th>elementName</th>\n",
       "      <th>ELEV</th>\n",
       "      <th>H_24R</th>\n",
       "      <th>HUMD</th>\n",
       "      <th>TEMP</th>\n",
       "      <th>D_TN</th>\n",
       "      <th>D_TX</th>\n",
       "      <th>D_TNT</th>\n",
       "      <th>D_TXT</th>\n",
       "    </tr>\n",
       "    <tr>\n",
       "      <th>locationName</th>\n",
       "      <th>stationId</th>\n",
       "      <th></th>\n",
       "      <th></th>\n",
       "      <th></th>\n",
       "      <th></th>\n",
       "      <th></th>\n",
       "      <th></th>\n",
       "      <th></th>\n",
       "      <th></th>\n",
       "    </tr>\n",
       "  </thead>\n",
       "  <tbody>\n",
       "    <tr>\n",
       "      <th>南山</th>\n",
       "      <th>C0U720</th>\n",
       "      <td>1260.0</td>\n",
       "      <td>3.0</td>\n",
       "      <td>1</td>\n",
       "      <td>0.3</td>\n",
       "      <td>-0.30</td>\n",
       "      <td>2.00</td>\n",
       "      <td>2021-01-08 08:00:00</td>\n",
       "      <td>2021-01-08 00:30:00</td>\n",
       "    </tr>\n",
       "    <tr>\n",
       "      <th>太平山</th>\n",
       "      <th>C0U710</th>\n",
       "      <td>1942.0</td>\n",
       "      <td>0.5</td>\n",
       "      <td>1</td>\n",
       "      <td>-2.8</td>\n",
       "      <td>-4.50</td>\n",
       "      <td>-2.00</td>\n",
       "      <td>2021-01-08 07:30:00</td>\n",
       "      <td>2021-01-08 00:20:00</td>\n",
       "    </tr>\n",
       "    <tr>\n",
       "      <th>白嶺</th>\n",
       "      <th>C0UA30</th>\n",
       "      <td>1397.0</td>\n",
       "      <td>0.5</td>\n",
       "      <td>1</td>\n",
       "      <td>-0.3</td>\n",
       "      <td>-1.10</td>\n",
       "      <td>0.90</td>\n",
       "      <td>2021-01-08 07:50:00</td>\n",
       "      <td>2021-01-08 00:10:00</td>\n",
       "    </tr>\n",
       "    <tr>\n",
       "      <th>鴛鴦湖</th>\n",
       "      <th>C0UA10</th>\n",
       "      <td>1711.0</td>\n",
       "      <td>0.0</td>\n",
       "      <td>1</td>\n",
       "      <td>-1.8</td>\n",
       "      <td>-2.60</td>\n",
       "      <td>-0.40</td>\n",
       "      <td>2021-01-08 09:20:00</td>\n",
       "      <td>2021-01-08 00:20:00</td>\n",
       "    </tr>\n",
       "  </tbody>\n",
       "</table>\n",
       "</div>"
      ],
      "text/plain": [
       "elementName               ELEV H_24R HUMD  TEMP   D_TN   D_TX  \\\n",
       "locationName stationId                                          \n",
       "南山           C0U720     1260.0   3.0    1   0.3  -0.30   2.00   \n",
       "太平山          C0U710     1942.0   0.5    1  -2.8  -4.50  -2.00   \n",
       "白嶺           C0UA30     1397.0   0.5    1  -0.3  -1.10   0.90   \n",
       "鴛鴦湖          C0UA10     1711.0   0.0    1  -1.8  -2.60  -0.40   \n",
       "\n",
       "elementName                          D_TNT               D_TXT  \n",
       "locationName stationId                                          \n",
       "南山           C0U720    2021-01-08 08:00:00 2021-01-08 00:30:00  \n",
       "太平山          C0U710    2021-01-08 07:30:00 2021-01-08 00:20:00  \n",
       "白嶺           C0UA30    2021-01-08 07:50:00 2021-01-08 00:10:00  \n",
       "鴛鴦湖          C0UA10    2021-01-08 09:20:00 2021-01-08 00:20:00  "
      ]
     },
     "execution_count": 92,
     "metadata": {},
     "output_type": "execute_result"
    }
   ],
   "source": [
    "df"
   ]
  },
  {
   "cell_type": "code",
   "execution_count": 81,
   "metadata": {},
   "outputs": [
    {
     "ename": "ValueError",
     "evalue": "unconverted data remains: +08:00",
     "output_type": "error",
     "traceback": [
      "\u001b[0;31m---------------------------------------------------------------------------\u001b[0m",
      "\u001b[0;31mValueError\u001b[0m                                Traceback (most recent call last)",
      "\u001b[0;32m<ipython-input-81-d5c29504b5c8>\u001b[0m in \u001b[0;36m<module>\u001b[0;34m()\u001b[0m\n\u001b[0;32m----> 1\u001b[0;31m \u001b[0mdatetime\u001b[0m\u001b[0;34m.\u001b[0m\u001b[0mstrptime\u001b[0m\u001b[0;34m(\u001b[0m\u001b[0mdf\u001b[0m\u001b[0;34m[\u001b[0m\u001b[0;34m'D_TNT'\u001b[0m\u001b[0;34m]\u001b[0m\u001b[0;34m[\u001b[0m\u001b[0;36m0\u001b[0m\u001b[0;34m]\u001b[0m\u001b[0;34m,\u001b[0m \u001b[0;34m'%Y-%m-%dT%H:%M:%S'\u001b[0m\u001b[0;34m)\u001b[0m\u001b[0;34m\u001b[0m\u001b[0;34m\u001b[0m\u001b[0m\n\u001b[0m",
      "\u001b[0;32m/Users/qzt/miniconda3/envs/data/lib/python3.7/_strptime.py\u001b[0m in \u001b[0;36m_strptime_datetime\u001b[0;34m(cls, data_string, format)\u001b[0m\n\u001b[1;32m    575\u001b[0m     \"\"\"Return a class cls instance based on the input string and the\n\u001b[1;32m    576\u001b[0m     format string.\"\"\"\n\u001b[0;32m--> 577\u001b[0;31m     \u001b[0mtt\u001b[0m\u001b[0;34m,\u001b[0m \u001b[0mfraction\u001b[0m\u001b[0;34m,\u001b[0m \u001b[0mgmtoff_fraction\u001b[0m \u001b[0;34m=\u001b[0m \u001b[0m_strptime\u001b[0m\u001b[0;34m(\u001b[0m\u001b[0mdata_string\u001b[0m\u001b[0;34m,\u001b[0m \u001b[0mformat\u001b[0m\u001b[0;34m)\u001b[0m\u001b[0;34m\u001b[0m\u001b[0;34m\u001b[0m\u001b[0m\n\u001b[0m\u001b[1;32m    578\u001b[0m     \u001b[0mtzname\u001b[0m\u001b[0;34m,\u001b[0m \u001b[0mgmtoff\u001b[0m \u001b[0;34m=\u001b[0m \u001b[0mtt\u001b[0m\u001b[0;34m[\u001b[0m\u001b[0;34m-\u001b[0m\u001b[0;36m2\u001b[0m\u001b[0;34m:\u001b[0m\u001b[0;34m]\u001b[0m\u001b[0;34m\u001b[0m\u001b[0;34m\u001b[0m\u001b[0m\n\u001b[1;32m    579\u001b[0m     \u001b[0margs\u001b[0m \u001b[0;34m=\u001b[0m \u001b[0mtt\u001b[0m\u001b[0;34m[\u001b[0m\u001b[0;34m:\u001b[0m\u001b[0;36m6\u001b[0m\u001b[0;34m]\u001b[0m \u001b[0;34m+\u001b[0m \u001b[0;34m(\u001b[0m\u001b[0mfraction\u001b[0m\u001b[0;34m,\u001b[0m\u001b[0;34m)\u001b[0m\u001b[0;34m\u001b[0m\u001b[0;34m\u001b[0m\u001b[0m\n",
      "\u001b[0;32m/Users/qzt/miniconda3/envs/data/lib/python3.7/_strptime.py\u001b[0m in \u001b[0;36m_strptime\u001b[0;34m(data_string, format)\u001b[0m\n\u001b[1;32m    360\u001b[0m     \u001b[0;32mif\u001b[0m \u001b[0mlen\u001b[0m\u001b[0;34m(\u001b[0m\u001b[0mdata_string\u001b[0m\u001b[0;34m)\u001b[0m \u001b[0;34m!=\u001b[0m \u001b[0mfound\u001b[0m\u001b[0;34m.\u001b[0m\u001b[0mend\u001b[0m\u001b[0;34m(\u001b[0m\u001b[0;34m)\u001b[0m\u001b[0;34m:\u001b[0m\u001b[0;34m\u001b[0m\u001b[0;34m\u001b[0m\u001b[0m\n\u001b[1;32m    361\u001b[0m         raise ValueError(\"unconverted data remains: %s\" %\n\u001b[0;32m--> 362\u001b[0;31m                           data_string[found.end():])\n\u001b[0m\u001b[1;32m    363\u001b[0m \u001b[0;34m\u001b[0m\u001b[0m\n\u001b[1;32m    364\u001b[0m     \u001b[0miso_year\u001b[0m \u001b[0;34m=\u001b[0m \u001b[0myear\u001b[0m \u001b[0;34m=\u001b[0m \u001b[0;32mNone\u001b[0m\u001b[0;34m\u001b[0m\u001b[0;34m\u001b[0m\u001b[0m\n",
      "\u001b[0;31mValueError\u001b[0m: unconverted data remains: +08:00"
     ]
    }
   ],
   "source": [
    "datetime.strptime(df['D_TNT'][0], '%Y-%m-%dT%H:%M:%S+08:00')"
   ]
  },
  {
   "cell_type": "code",
   "execution_count": null,
   "metadata": {},
   "outputs": [],
   "source": []
  }
 ],
 "metadata": {
  "kernelspec": {
   "display_name": "Python 3",
   "language": "python",
   "name": "python3"
  },
  "language_info": {
   "codemirror_mode": {
    "name": "ipython",
    "version": 3
   },
   "file_extension": ".py",
   "mimetype": "text/x-python",
   "name": "python",
   "nbconvert_exporter": "python",
   "pygments_lexer": "ipython3",
   "version": "3.7.8"
  }
 },
 "nbformat": 4,
 "nbformat_minor": 4
}
