{
 "cells": [
  {
   "cell_type": "code",
   "execution_count": 1,
   "metadata": {},
   "outputs": [],
   "source": [
    "import pandas as pd\n",
    "import numpy as np\n",
    "from datetime import datetime\n",
    "import matplotlib\n",
    "import matplotlib.pyplot as plt\n",
    "from tqdm.notebook import tqdm\n",
    "from custom import weather\n",
    "\n",
    "# matplotlib.rcParams['font.family'] = ['Heiti TC']\n",
    "\n",
    "def rmax(maxrow: int=50):\n",
    "    pd.set_option('display.max_rows', maxrow)\n",
    "def cmax(maxcol: int=50):\n",
    "    pd.set_option('display.max_columns', maxcol)\n",
    "\n",
    "%load_ext autoreload\n",
    "%autoreload 2"
   ]
  },
  {
   "cell_type": "markdown",
   "metadata": {},
   "source": [
    "## Get all station codes (所有測站代碼）"
   ]
  },
  {
   "cell_type": "code",
   "execution_count": 2,
   "metadata": {},
   "outputs": [],
   "source": [
    "# url = \"https://e-service.cwb.gov.tw/wdps/obs/state.htm\"\n",
    "# df = pd.read_html(url)\n",
    "# df = pd.DataFrame(df[0])\n",
    "# df.columns = ['stn_code', 'stn_name', 'altitude', 'Longitude', 'Latitude', 'city', 'address', 'data_start_date', 'stn_end_date', 'comment', 'orig_stn_code', 'new_stn_code']\n",
    "#df.to_csv('all_station_20201126.csv', index=False)"
   ]
  },
  {
   "cell_type": "code",
   "execution_count": 3,
   "metadata": {},
   "outputs": [],
   "source": [
    "# datastart = '2015/1/1'\n",
    "# dataend = '2020/11/26'\n",
    "\n",
    "# df['data_start_date2'] = df.data_start_date.map(lambda x: max(pd.to_datetime(x), datetime.strptime(datastart, \"%Y/%m/%d\")))\n",
    "\n",
    "# df['data_duration'] = 12 * (datetime.strptime(dataend, \"%Y/%m/%d\").year - df.data_start_date2.dt.year)+\\\n",
    "#                     (datetime.strptime(dataend, \"%Y/%m/%d\").month - df.data_start_date2.dt.month)\n",
    "\n",
    "# df['data_duration2'] = df.data_duration.map(lambda x: f'{x//12}年{x%12}個月')\n",
    "# df['data_period'] = df.data_start_date.map(lambda x: f'{x}-2020/11/26')"
   ]
  },
  {
   "cell_type": "markdown",
   "metadata": {},
   "source": [
    "### load from saved dataframe"
   ]
  },
  {
   "cell_type": "code",
   "execution_count": 4,
   "metadata": {},
   "outputs": [
    {
     "data": {
      "text/html": [
       "<div>\n",
       "<style scoped>\n",
       "    .dataframe tbody tr th:only-of-type {\n",
       "        vertical-align: middle;\n",
       "    }\n",
       "\n",
       "    .dataframe tbody tr th {\n",
       "        vertical-align: top;\n",
       "    }\n",
       "\n",
       "    .dataframe thead th {\n",
       "        text-align: right;\n",
       "    }\n",
       "</style>\n",
       "<table border=\"1\" class=\"dataframe\">\n",
       "  <thead>\n",
       "    <tr style=\"text-align: right;\">\n",
       "      <th></th>\n",
       "      <th>stn_code</th>\n",
       "      <th>stn_name</th>\n",
       "      <th>altitude</th>\n",
       "      <th>Longitude</th>\n",
       "      <th>Latitude</th>\n",
       "      <th>city</th>\n",
       "      <th>address</th>\n",
       "      <th>data_start_date</th>\n",
       "      <th>stn_end_date</th>\n",
       "      <th>comment</th>\n",
       "      <th>orig_stn_code</th>\n",
       "      <th>new_stn_code</th>\n",
       "      <th>data_start_date2</th>\n",
       "      <th>data_duration</th>\n",
       "      <th>data_duration2</th>\n",
       "      <th>data_period</th>\n",
       "    </tr>\n",
       "  </thead>\n",
       "  <tbody>\n",
       "    <tr>\n",
       "      <th>0</th>\n",
       "      <td>466850</td>\n",
       "      <td>五分山雷達站</td>\n",
       "      <td>756.0</td>\n",
       "      <td>121.781205</td>\n",
       "      <td>25.071182</td>\n",
       "      <td>新北市</td>\n",
       "      <td>瑞芳區靜安路四段1巷1號</td>\n",
       "      <td>1998/07/01</td>\n",
       "      <td>NaN</td>\n",
       "      <td>本站只有雷達觀測資料。</td>\n",
       "      <td>NaN</td>\n",
       "      <td>NaN</td>\n",
       "      <td>2015-01-01</td>\n",
       "      <td>70</td>\n",
       "      <td>5年10個月</td>\n",
       "      <td>1998/07/01-2020/11/26</td>\n",
       "    </tr>\n",
       "    <tr>\n",
       "      <th>1</th>\n",
       "      <td>466880</td>\n",
       "      <td>板橋</td>\n",
       "      <td>9.7</td>\n",
       "      <td>121.442017</td>\n",
       "      <td>24.997647</td>\n",
       "      <td>新北市</td>\n",
       "      <td>板橋區大觀路二段265巷62號</td>\n",
       "      <td>1972/03/01</td>\n",
       "      <td>NaN</td>\n",
       "      <td>原為探空站，自2002年開始進行氣象觀測。因受附近興建合宜住宅影響，日照觀測自民國104年起...</td>\n",
       "      <td>NaN</td>\n",
       "      <td>NaN</td>\n",
       "      <td>2015-01-01</td>\n",
       "      <td>70</td>\n",
       "      <td>5年10個月</td>\n",
       "      <td>1972/03/01-2020/11/26</td>\n",
       "    </tr>\n",
       "    <tr>\n",
       "      <th>2</th>\n",
       "      <td>466900</td>\n",
       "      <td>淡水</td>\n",
       "      <td>19.0</td>\n",
       "      <td>121.448906</td>\n",
       "      <td>25.164889</td>\n",
       "      <td>新北市</td>\n",
       "      <td>淡水區中正東路42巷6號</td>\n",
       "      <td>1942/01/01</td>\n",
       "      <td>NaN</td>\n",
       "      <td>NaN</td>\n",
       "      <td>NaN</td>\n",
       "      <td>NaN</td>\n",
       "      <td>2015-01-01</td>\n",
       "      <td>70</td>\n",
       "      <td>5年10個月</td>\n",
       "      <td>1942/01/01-2020/11/26</td>\n",
       "    </tr>\n",
       "    <tr>\n",
       "      <th>3</th>\n",
       "      <td>466910</td>\n",
       "      <td>鞍部</td>\n",
       "      <td>837.6</td>\n",
       "      <td>121.529731</td>\n",
       "      <td>25.182586</td>\n",
       "      <td>臺北市</td>\n",
       "      <td>北投區陽明山竹子湖路111號</td>\n",
       "      <td>1937/01/01</td>\n",
       "      <td>NaN</td>\n",
       "      <td>NaN</td>\n",
       "      <td>NaN</td>\n",
       "      <td>NaN</td>\n",
       "      <td>2015-01-01</td>\n",
       "      <td>70</td>\n",
       "      <td>5年10個月</td>\n",
       "      <td>1937/01/01-2020/11/26</td>\n",
       "    </tr>\n",
       "    <tr>\n",
       "      <th>4</th>\n",
       "      <td>466920</td>\n",
       "      <td>臺北</td>\n",
       "      <td>5.3</td>\n",
       "      <td>121.514853</td>\n",
       "      <td>25.037658</td>\n",
       "      <td>臺北市</td>\n",
       "      <td>中正區公園路64號</td>\n",
       "      <td>1896/01/01</td>\n",
       "      <td>NaN</td>\n",
       "      <td>2014至2015氣候年報之氣壓計海面上高度應為30.3m(2014/10/25搬遷，6.6...</td>\n",
       "      <td>NaN</td>\n",
       "      <td>NaN</td>\n",
       "      <td>2015-01-01</td>\n",
       "      <td>70</td>\n",
       "      <td>5年10個月</td>\n",
       "      <td>1896/01/01-2020/11/26</td>\n",
       "    </tr>\n",
       "    <tr>\n",
       "      <th>...</th>\n",
       "      <td>...</td>\n",
       "      <td>...</td>\n",
       "      <td>...</td>\n",
       "      <td>...</td>\n",
       "      <td>...</td>\n",
       "      <td>...</td>\n",
       "      <td>...</td>\n",
       "      <td>...</td>\n",
       "      <td>...</td>\n",
       "      <td>...</td>\n",
       "      <td>...</td>\n",
       "      <td>...</td>\n",
       "      <td>...</td>\n",
       "      <td>...</td>\n",
       "      <td>...</td>\n",
       "      <td>...</td>\n",
       "    </tr>\n",
       "    <tr>\n",
       "      <th>603</th>\n",
       "      <td>C1Z110</td>\n",
       "      <td>三棧</td>\n",
       "      <td>680.0</td>\n",
       "      <td>121.605010</td>\n",
       "      <td>24.115570</td>\n",
       "      <td>花蓮縣</td>\n",
       "      <td>秀林鄉雙露山</td>\n",
       "      <td>2017/12/01</td>\n",
       "      <td>NaN</td>\n",
       "      <td>原(C1Z090)站因移位，於2017/12/1變更為(C1Z110)站。</td>\n",
       "      <td>C1Z090</td>\n",
       "      <td>NaN</td>\n",
       "      <td>2017-12-01</td>\n",
       "      <td>35</td>\n",
       "      <td>2年11個月</td>\n",
       "      <td>2017/12/01-2020/11/26</td>\n",
       "    </tr>\n",
       "    <tr>\n",
       "      <th>604</th>\n",
       "      <td>C1Z120</td>\n",
       "      <td>壽豐</td>\n",
       "      <td>62.0</td>\n",
       "      <td>121.508081</td>\n",
       "      <td>23.870853</td>\n",
       "      <td>花蓮縣</td>\n",
       "      <td>壽豐鄉壽豐村壽山路37號(壽豐鄉文康中心)</td>\n",
       "      <td>2017/06/03</td>\n",
       "      <td>NaN</td>\n",
       "      <td>原(C1T890)站因移位，於2017/6/3變更為(C1Z120)站。</td>\n",
       "      <td>C1T890</td>\n",
       "      <td>NaN</td>\n",
       "      <td>2017-06-03</td>\n",
       "      <td>41</td>\n",
       "      <td>3年5個月</td>\n",
       "      <td>2017/06/03-2020/11/26</td>\n",
       "    </tr>\n",
       "    <tr>\n",
       "      <th>605</th>\n",
       "      <td>C1Z130</td>\n",
       "      <td>銅門</td>\n",
       "      <td>187.0</td>\n",
       "      <td>121.492842</td>\n",
       "      <td>23.965694</td>\n",
       "      <td>花蓮縣</td>\n",
       "      <td>秀林鄉銅門村69號(銅門國小)</td>\n",
       "      <td>2017/06/03</td>\n",
       "      <td>NaN</td>\n",
       "      <td>原(C1T860)站因移位，於2017/6/3變更為(C1Z130)站。</td>\n",
       "      <td>C1T860</td>\n",
       "      <td>NaN</td>\n",
       "      <td>2017-06-03</td>\n",
       "      <td>41</td>\n",
       "      <td>3年5個月</td>\n",
       "      <td>2017/06/03-2020/11/26</td>\n",
       "    </tr>\n",
       "    <tr>\n",
       "      <th>606</th>\n",
       "      <td>C1Z140</td>\n",
       "      <td>荖溪</td>\n",
       "      <td>950.0</td>\n",
       "      <td>121.459640</td>\n",
       "      <td>23.890575</td>\n",
       "      <td>花蓮縣</td>\n",
       "      <td>秀林鄉</td>\n",
       "      <td>2018/03/23</td>\n",
       "      <td>NaN</td>\n",
       "      <td>NaN</td>\n",
       "      <td>NaN</td>\n",
       "      <td>NaN</td>\n",
       "      <td>2018-03-23</td>\n",
       "      <td>32</td>\n",
       "      <td>2年8個月</td>\n",
       "      <td>2018/03/23-2020/11/26</td>\n",
       "    </tr>\n",
       "    <tr>\n",
       "      <th>607</th>\n",
       "      <td>C1Z240</td>\n",
       "      <td>中平林道</td>\n",
       "      <td>1163.0</td>\n",
       "      <td>121.267630</td>\n",
       "      <td>23.421150</td>\n",
       "      <td>花蓮縣</td>\n",
       "      <td>卓溪鄉中平林道(玉里林道)約15K鐵牌處步行上山高地</td>\n",
       "      <td>2017/12/01</td>\n",
       "      <td>NaN</td>\n",
       "      <td>NaN</td>\n",
       "      <td>NaN</td>\n",
       "      <td>NaN</td>\n",
       "      <td>2017-12-01</td>\n",
       "      <td>35</td>\n",
       "      <td>2年11個月</td>\n",
       "      <td>2017/12/01-2020/11/26</td>\n",
       "    </tr>\n",
       "  </tbody>\n",
       "</table>\n",
       "<p>608 rows × 16 columns</p>\n",
       "</div>"
      ],
      "text/plain": [
       "    stn_code stn_name  altitude   Longitude   Latitude city  \\\n",
       "0     466850   五分山雷達站     756.0  121.781205  25.071182  新北市   \n",
       "1     466880       板橋       9.7  121.442017  24.997647  新北市   \n",
       "2     466900       淡水      19.0  121.448906  25.164889  新北市   \n",
       "3     466910       鞍部     837.6  121.529731  25.182586  臺北市   \n",
       "4     466920       臺北       5.3  121.514853  25.037658  臺北市   \n",
       "..       ...      ...       ...         ...        ...  ...   \n",
       "603   C1Z110       三棧     680.0  121.605010  24.115570  花蓮縣   \n",
       "604   C1Z120       壽豐      62.0  121.508081  23.870853  花蓮縣   \n",
       "605   C1Z130       銅門     187.0  121.492842  23.965694  花蓮縣   \n",
       "606   C1Z140       荖溪     950.0  121.459640  23.890575  花蓮縣   \n",
       "607   C1Z240     中平林道    1163.0  121.267630  23.421150  花蓮縣   \n",
       "\n",
       "                        address data_start_date  stn_end_date  \\\n",
       "0                  瑞芳區靜安路四段1巷1號      1998/07/01           NaN   \n",
       "1               板橋區大觀路二段265巷62號      1972/03/01           NaN   \n",
       "2                  淡水區中正東路42巷6號      1942/01/01           NaN   \n",
       "3                北投區陽明山竹子湖路111號      1937/01/01           NaN   \n",
       "4                     中正區公園路64號      1896/01/01           NaN   \n",
       "..                          ...             ...           ...   \n",
       "603                      秀林鄉雙露山      2017/12/01           NaN   \n",
       "604       壽豐鄉壽豐村壽山路37號(壽豐鄉文康中心)      2017/06/03           NaN   \n",
       "605             秀林鄉銅門村69號(銅門國小)      2017/06/03           NaN   \n",
       "606                         秀林鄉      2018/03/23           NaN   \n",
       "607  卓溪鄉中平林道(玉里林道)約15K鐵牌處步行上山高地      2017/12/01           NaN   \n",
       "\n",
       "                                               comment orig_stn_code  \\\n",
       "0                                          本站只有雷達觀測資料。           NaN   \n",
       "1    原為探空站，自2002年開始進行氣象觀測。因受附近興建合宜住宅影響，日照觀測自民國104年起...           NaN   \n",
       "2                                                  NaN           NaN   \n",
       "3                                                  NaN           NaN   \n",
       "4    2014至2015氣候年報之氣壓計海面上高度應為30.3m(2014/10/25搬遷，6.6...           NaN   \n",
       "..                                                 ...           ...   \n",
       "603              原(C1Z090)站因移位，於2017/12/1變更為(C1Z110)站。        C1Z090   \n",
       "604               原(C1T890)站因移位，於2017/6/3變更為(C1Z120)站。        C1T890   \n",
       "605               原(C1T860)站因移位，於2017/6/3變更為(C1Z130)站。        C1T860   \n",
       "606                                                NaN           NaN   \n",
       "607                                                NaN           NaN   \n",
       "\n",
       "     new_stn_code data_start_date2  data_duration data_duration2  \\\n",
       "0             NaN       2015-01-01             70         5年10個月   \n",
       "1             NaN       2015-01-01             70         5年10個月   \n",
       "2             NaN       2015-01-01             70         5年10個月   \n",
       "3             NaN       2015-01-01             70         5年10個月   \n",
       "4             NaN       2015-01-01             70         5年10個月   \n",
       "..            ...              ...            ...            ...   \n",
       "603           NaN       2017-12-01             35         2年11個月   \n",
       "604           NaN       2017-06-03             41          3年5個月   \n",
       "605           NaN       2017-06-03             41          3年5個月   \n",
       "606           NaN       2018-03-23             32          2年8個月   \n",
       "607           NaN       2017-12-01             35         2年11個月   \n",
       "\n",
       "               data_period  \n",
       "0    1998/07/01-2020/11/26  \n",
       "1    1972/03/01-2020/11/26  \n",
       "2    1942/01/01-2020/11/26  \n",
       "3    1937/01/01-2020/11/26  \n",
       "4    1896/01/01-2020/11/26  \n",
       "..                     ...  \n",
       "603  2017/12/01-2020/11/26  \n",
       "604  2017/06/03-2020/11/26  \n",
       "605  2017/06/03-2020/11/26  \n",
       "606  2018/03/23-2020/11/26  \n",
       "607  2017/12/01-2020/11/26  \n",
       "\n",
       "[608 rows x 16 columns]"
      ]
     },
     "execution_count": 4,
     "metadata": {},
     "output_type": "execute_result"
    }
   ],
   "source": [
    "df = pd.read_csv('all_station_20201126.csv')\n",
    "df"
   ]
  },
  {
   "cell_type": "code",
   "execution_count": 5,
   "metadata": {},
   "outputs": [
    {
     "data": {
      "text/plain": [
       "(22, 16)"
      ]
     },
     "execution_count": 5,
     "metadata": {},
     "output_type": "execute_result"
    }
   ],
   "source": [
    "## station with data less than 1 year\n",
    "new_stn = df[df.data_duration<12]\n",
    "new_stn.shape"
   ]
  },
  {
   "cell_type": "markdown",
   "metadata": {},
   "source": [
    "## Show the location of weather station on map"
   ]
  },
  {
   "cell_type": "code",
   "execution_count": 6,
   "metadata": {},
   "outputs": [],
   "source": [
    "## upgrade to the latest commit of brance and folium to fix unicode character display problem\n",
    "# !pip install git+https://github.com/python-visualization/branca.git@master\n",
    "# !pip install git+https://github.com/python-visualization/folium.git@master"
   ]
  },
  {
   "cell_type": "code",
   "execution_count": 7,
   "metadata": {},
   "outputs": [
    {
     "data": {
      "text/plain": [
       "'0.4.1+4.gac45f1e'"
      ]
     },
     "execution_count": 7,
     "metadata": {},
     "output_type": "execute_result"
    }
   ],
   "source": [
    "import branca\n",
    "\n",
    "branca.__version__"
   ]
  },
  {
   "cell_type": "code",
   "execution_count": 8,
   "metadata": {},
   "outputs": [
    {
     "data": {
      "text/plain": [
       "'unknown'"
      ]
     },
     "execution_count": 8,
     "metadata": {},
     "output_type": "execute_result"
    }
   ],
   "source": [
    "import folium\n",
    "\n",
    "folium.__version__"
   ]
  },
  {
   "cell_type": "code",
   "execution_count": 9,
   "metadata": {},
   "outputs": [],
   "source": [
    "### show all weather station. Not run \n",
    "# map_weather = map_with_marker(lat=df['Latitude'], lng=df['Longitude'], label1=df['stn_name'], \n",
    "#                               label2=df['city'], color=df['city'].astype('category').cat.codes, \n",
    "#                               cmap='tab10', location='Taiwan', zoom=8)\n",
    "# map_weather"
   ]
  },
  {
   "cell_type": "markdown",
   "metadata": {},
   "source": [
    "## Load cleaned weather data"
   ]
  },
  {
   "cell_type": "code",
   "execution_count": 10,
   "metadata": {},
   "outputs": [],
   "source": [
    "df_w = pd.read_pickle('weather_all_cleaned.bz2')"
   ]
  },
  {
   "cell_type": "code",
   "execution_count": 11,
   "metadata": {},
   "outputs": [],
   "source": [
    "# only keep weather stations without too many missing data (as filtered in the cleaned dataset)\n",
    "code_list = df_w.index.get_level_values(0).unique().values\n",
    "\n",
    "df2 = df[df.stn_code.isin(code_list)]"
   ]
  },
  {
   "cell_type": "markdown",
   "metadata": {},
   "source": [
    "### plot again filtered station on map"
   ]
  },
  {
   "cell_type": "code",
   "execution_count": null,
   "metadata": {},
   "outputs": [],
   "source": [
    "map_weather = weather.map_with_marker(lat=df2['Latitude'], lng=df2['Longitude'], label1=df2['stn_name'], \n",
    "                              label2=df2['city'], color=df2['city'].astype('category').cat.codes, \n",
    "                              cmap='tab10', location='Taiwan', zoom=8)\n",
    "map_weather"
   ]
  },
  {
   "cell_type": "markdown",
   "metadata": {},
   "source": [
    "## Plot wind directions"
   ]
  },
  {
   "cell_type": "code",
   "execution_count": null,
   "metadata": {},
   "outputs": [],
   "source": [
    "code = '466910'\n",
    "temp = df_w.loc[code]\n",
    "stn_name = df[df.iloc[:,0]==code].iloc[0,1]\n",
    "\n",
    "temp['Month'] = temp.index.month_name().astype('category')\n",
    "\n",
    "fig, axes = plt.subplots(figsize=(20,15), ncols=4, nrows=3, subplot_kw=dict(polar=True))\n",
    "fig.suptitle(stn_name, fontsize=24)\n",
    "for (i, m), ax in zip(enumerate(temp.Month.unique()), axes.flat):\n",
    "    wind = temp[temp.Month==m].WD\n",
    "    weather.plot_wind(wind, 10, ax=ax)\n",
    "    ax.set_title(m, pad=20)\n",
    "\n",
    "plt.tight_layout()"
   ]
  },
  {
   "cell_type": "markdown",
   "metadata": {},
   "source": [
    "### plot and save wind directon plot for all stations"
   ]
  },
  {
   "cell_type": "code",
   "execution_count": null,
   "metadata": {},
   "outputs": [],
   "source": [
    "## filter out station with <1y data\n",
    "codes_plot = list(set(df2.stn_code.unique()).difference(set(new_stn.stn_code.unique())))\n",
    "len(codes_plot)"
   ]
  },
  {
   "cell_type": "code",
   "execution_count": null,
   "metadata": {},
   "outputs": [],
   "source": [
    "for code in tqdm(codes_plot[:2]):\n",
    "\n",
    "    stn_name = df[df.iloc[:,0]==code].iloc[0,1]\n",
    "    print(f'plotting {stn_name}')\n",
    "    \n",
    "    temp = df_w.loc[code]\n",
    "    temp['month'] = temp.index.month.astype('category')\n",
    "    temp['year'] = temp.index.year.astype('category')\n",
    "\n",
    "    fig, axes = plt.subplots(figsize=(12,15), ncols=3, nrows=4, subplot_kw=dict(polar=True))\n",
    "#     fig.suptitle(stn_name, fontsize=18, y=0.98)\n",
    "    bw=10\n",
    "    y_max=0\n",
    "    for m, ax in zip(np.r_[12,1:12], axes.flat):\n",
    "        temp_m = temp[temp.month==m]\n",
    "        wind = temp_m.WD\n",
    "        windG = temp_m.WDGust\n",
    "\n",
    "        ## Get the max wind gust speed and dir in full period (all years)\n",
    "        idx = temp_m.WSGust.idxmax()\n",
    "        G_max = temp_m.loc[idx, 'WSGust']\n",
    "        G_dir = temp_m.loc[idx, 'WDGust']\n",
    "    # #     counts, bins = np.histogram(temp_m.loc[idx.dropna()].WDGust, bins=(360//bw), range=[0,360])\n",
    "    #     ## 當月最大風速 \"最常\" 出現在那個方向. \n",
    "    #     G_dir = bins[np.argmax(counts)]\n",
    "\n",
    "        radi_max = weather.plot_wind_gust(wind, windG, G_dir, G_max, bin_degree=10, ax=ax)\n",
    "        y_max = radi_max if (radi_max>y_max) else y_max\n",
    "        monthname = datetime.strptime(str(m), \"%m\").strftime(\"%B\")\n",
    "        ax.set_title(monthname, x=0.1)\n",
    "    \n",
    "    for ax in axes.flat:  ## set all subplot with the same maximum\n",
    "        ax.set_ylim(0,y_max)\n",
    "        \n",
    "    plt.tight_layout()\n",
    "    plt.savefig(f'resources/{code}.png')\n",
    "#     plt.close(fig)"
   ]
  },
  {
   "cell_type": "markdown",
   "metadata": {},
   "source": [
    "## Plot map with wind stat image popup"
   ]
  },
  {
   "cell_type": "code",
   "execution_count": null,
   "metadata": {},
   "outputs": [],
   "source": [
    "from matplotlib import cm\n",
    "import folium\n",
    "import geocoder\n",
    "import os\n",
    "import base64\n",
    "\n",
    "\n",
    "\n",
    "def map_with_windpopup(df, c_col, imagepath, cmap='Set1', location='Taiwan', zoom=9):\n",
    "    \n",
    "    # create a color map\n",
    "    ccode = df[c_col].astype('category').cat.codes\n",
    "    cmap = cm.get_cmap(cmap, ccode.nunique())    # PiYG\n",
    "    rgb = [matplotlib.colors.rgb2hex(cmap(i)[:3]) for i in range(cmap.N)]\n",
    "\n",
    "    # create the location map\n",
    "    g = geocoder.osm(location)\n",
    "    latitude = g.latlng[0]\n",
    "    longitude = g.latlng[1]\n",
    "    \n",
    "    f = folium.Figure(width=800, height=900)\n",
    "    map_ = folium.Map(location=[latitude, longitude], zoom_start=zoom).add_to(f)\n",
    "#     map_ = folium.Map(location=[latitude, longitude], zoom_start=zoom)\n",
    "    \n",
    "    # add marker to map\n",
    "    for c,(i,row) in zip(ccode, df.iterrows()):\n",
    "        hovertext = f'{row.stn_name}, {row.city}, Alt {row.altitude}m'\n",
    "        \n",
    "        Filename =os.path.join(imagepath, f'{row.stn_code}.png')\n",
    "        html = f\"<b>{row.stn_name}{row.stn_code}, 資料期間:{row.data_duration2}</b>\"\n",
    "        if os.path.isfile(Filename):\n",
    "            encoded = base64.b64encode(open(Filename, 'rb').read())\n",
    "            html+=f'<img src=\"data:image/png;base64,{encoded.decode(\"UTF-8\")}\" style=\"width:98%;height:98%;\">'\n",
    "        iframe = folium.IFrame(html, width=640, height=800)\n",
    "        folium.CircleMarker(\n",
    "            [row.Latitude, row.Longitude],\n",
    "            radius=5,\n",
    "            popup = folium.Popup(iframe, max_width=900),\n",
    "            tooltip=hovertext,\n",
    "            color=rgb[c],\n",
    "            fill=True,\n",
    "            fill_color=rgb[c],\n",
    "            fill_opacity=0.9,\n",
    "            parse_html=False).add_to(map_)\n",
    "    \n",
    "    return map_"
   ]
  },
  {
   "cell_type": "code",
   "execution_count": null,
   "metadata": {},
   "outputs": [],
   "source": [
    "map_weather = map_with_windpopup(df2, c_col='city', imagepath='resources', cmap='tab10', location='Taiwan', zoom=9)\n",
    "map_weather"
   ]
  },
  {
   "cell_type": "code",
   "execution_count": null,
   "metadata": {},
   "outputs": [],
   "source": []
  }
 ],
 "metadata": {
  "kernelspec": {
   "display_name": "Python 3",
   "language": "python",
   "name": "python3"
  },
  "language_info": {
   "codemirror_mode": {
    "name": "ipython",
    "version": 3
   },
   "file_extension": ".py",
   "mimetype": "text/x-python",
   "name": "python",
   "nbconvert_exporter": "python",
   "pygments_lexer": "ipython3",
   "version": "3.7.8"
  }
 },
 "nbformat": 4,
 "nbformat_minor": 4
}
